{
 "nbformat": 4,
 "nbformat_minor": 2,
 "metadata": {
  "language_info": {
   "name": "python",
   "codemirror_mode": {
    "name": "ipython",
    "version": 3
   }
  },
  "orig_nbformat": 2,
  "file_extension": ".py",
  "mimetype": "text/x-python",
  "name": "python",
  "npconvert_exporter": "python",
  "pygments_lexer": "ipython3",
  "version": 3
 },
 "cells": [
  {
   "cell_type": "code",
   "execution_count": null,
   "metadata": {},
   "outputs": [],
   "source": [
    "import os\n",
    "\n",
    "import tensorflow as tf\n",
    "import pytest\n",
    "import numpy as np\n",
    "import keras.backend as K\n",
    "from keras.models import Sequential, Model , load_model\n",
    "from keras.layers import Input, Dense, Flatten\n",
    "from keras.layers import Conv1D, MaxPool1D, Cropping1D, UpSampling1D\n",
    "from keras.layers import ZeroPadding1D, AveragePooling1D, GlobalAveragePooling1D\n",
    "from keras.layers import Conv2D, MaxPool2D, Cropping2D, UpSampling2D\n",
    "from keras.layers import ZeroPadding2D, AveragePooling2D, GlobalAveragePooling2D\n",
    "from numpy import random\n",
    "\n",
    "from kerassurgeon import operations\n",
    "from kerassurgeon import utils\n",
    "from kerassurgeon import Surgeon\n",
    "from kerassurgeon.utils import get_inbound_nodes, get_outbound_nodes\n"
   ]
  },
  {
   "cell_type": "code",
   "execution_count": null,
   "metadata": {},
   "outputs": [],
   "source": [
    "train_dir = 'C:/Users/asus/Desktop/images/train'\n",
    "validation_dir = 'C:/Users/asus/Desktop/images/validation'"
   ]
  },
  {
   "cell_type": "code",
   "execution_count": null,
   "metadata": {},
   "outputs": [],
   "source": [
    "batch_size = 16\n",
    "epochs = 30\n",
    "warmup_epocks = 2\n",
    "learning_rate = 0.0005\n",
    "warmup_learning_rate = 0.0001\n",
    "height = 128\n",
    "width = 128\n",
    "colors = 3\n",
    "n_classes = 5\n",
    "es_patience = 5\n",
    "rlrop_patience = 3\n",
    "decay_drop = 0.5\n",
    "based_model_last_block_layer_number = 5 "
   ]
  },
  {
   "cell_type": "code",
   "execution_count": null,
   "metadata": {},
   "outputs": [],
   "source": [
    "    model = models.Sequential()\n",
    "    model.add(layers.Conv2D(32,(3,3), activation='relu',input_shape=(height, width, colors)))\n",
    "    model.add(layers.MaxPooling2D(pool_size=(2,2)))\n",
    "    #model.add(layers.BatchNormalization())\n",
    "\n",
    "    model.add(layers.Conv2D(32,(3,3), activation='relu'))\n",
    "    model.add(layers.MaxPooling2D(pool_size=(2,2)))\n",
    "    #model.add(layers.BatchNormalization())\n",
    "\n",
    "    model.add(layers.Conv2D(64,(3,3),activation='relu'))\n",
    "    model.add(layers.MaxPooling2D(pool_size=(2,2)))\n",
    "    model.add(layers.BatchNormalization())\n",
    "\n",
    "    model.add(layers.Flatten())\n",
    "    model.add(layers.Dense(64,activation='relu',kernel_regularizer=regularizers.l2(0.001)))\n",
    "    model.add(layers.Dropout(0.5))\n",
    "    model.add(layers.Dense(n_classes, activation='softmax',kernel_regularizer=regularizers.l2(0.001)))\n"
   ]
  },
  {
   "cell_type": "code",
   "execution_count": null,
   "metadata": {},
   "outputs": [],
   "source": [
    "model.compile(loss='categorical_crossentropy',optimizer='rmsprop',metrics=['accuracy'])"
   ]
  },
  {
   "cell_type": "code",
   "execution_count": null,
   "metadata": {},
   "outputs": [],
   "source": [
    "model.load_weights('model_weights.h5')"
   ]
  },
  {
   "cell_type": "code",
   "execution_count": null,
   "metadata": {},
   "outputs": [],
   "source": [
    "w1 = model.layers[0].get_weights()[0]\n",
    "w2 = model.layers[3].get_weights()[0]\n",
    "w3 = model.layers[6].get_weights()[0]\n",
    "\n",
    "conv_layer_weights = [w1,w2,w3]\n",
    "\n",
    "for i in range(len(conv_layer_weights)):\n",
    "    weight=conv_layer_weights[i]\n",
    "    weights_dict = {}\n",
    "    num_filters = len(weight[0,0,0,:])\n",
    "\n",
    "    for j in range (num_filters):\n",
    "        w_s = np.sum(abs(weight[:,:,:,j]))\n",
    "        filt = 'filt_{}'.format(j)\n",
    "        weights_dict[filt] = w_s\n",
    "    weights_dict_sort = sorted(weights_dict.items(), key=lambda kv: kv[1])\n",
    "    print('L1 norm conv layer {} \\n'.format(i+1),weights_dict_sort)\n",
    "\n",
    "    weights_value=[]\n",
    "    for elem in weights_dict_sort:\n",
    "        weights_value.append(elem[1])\n",
    "    xc=range(num_filters)\n",
    "\n",
    "\n",
    "\n",
    "    plt.figure(i+1,figsize=(7,5))\n",
    "    plt.plot(xc,weights_value)\n",
    "    plt.xlabel('filter_num')\n",
    "    plt.ylabel('l1 norm')\n",
    "    plt.title(' conv layer {}'.format(i+1))\n",
    "    plt.grid(True)\n",
    "\n",
    "    plt.style.use['classic']"
   ]
  },
  {
   "cell_type": "code",
   "execution_count": null,
   "metadata": {},
   "outputs": [],
   "source": [
    "from kerassurgeon import indentify"
   ]
  },
  {
   "cell_type": "code",
   "execution_count": null,
   "metadata": {},
   "outputs": [],
   "source": [
    "from kerassurgeon.operations import delete_channels,delete_layer\n",
    "\n"
   ]
  },
  {
   "cell_type": "code",
   "execution_count": null,
   "metadata": {},
   "outputs": [],
   "source": [
    "layer_0 = model.layers[0]\n",
    "model_new = delete_channels(model,layer_0,[7,26,30,15,24])\n",
    "\n",
    "model_new.compile(loss='categorical_crossentropy' , optimizer='rmsprop',metrics['accuracy'])"
   ]
  },
  {
   "cell_type": "code",
   "execution_count": null,
   "metadata": {},
   "outputs": [],
   "source": [
    "layer_6 = model.layer[6]\n",
    "model_new = delete_channels(model,layer_6,[7,26,30,15,24])\n"
   ]
  },
  {
   "cell_type": "code",
   "execution_count": null,
   "metadata": {},
   "outputs": [],
   "source": [
    "model_new.compile(loss='categorical_crossentropy', optimizer='rmsprop',metrics['accuracy'])\n"
   ]
  },
  {
   "cell_type": "code",
   "execution_count": null,
   "metadata": {},
   "outputs": [],
   "source": [
    "from kerassurgeon import Surgeon\n",
    "\n",
    "layer_0 = model.layer[0]\n",
    "layer_6 = model.layer[6]\n",
    "\n",
    "surgeon = Surgeon(model)\n",
    "\n",
    "surgeon.add_job('delete_channels',layer_0,channels=[7,26,30,15,24])\n",
    "surgeon.add_job('delete_channels',layer_6,channels=[9,62,1,15,24])\n",
    "\n",
    "model_new = surgeon.operate()\n",
    "model_new.compile(loss='categorical_crossentropy', optimizer='rmsprop',metrics['accuracy'])\n",
    "\n",
    "\n"
   ]
  }
 ]
}